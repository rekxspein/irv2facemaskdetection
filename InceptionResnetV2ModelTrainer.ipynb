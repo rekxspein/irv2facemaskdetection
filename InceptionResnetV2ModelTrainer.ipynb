{
  "nbformat": 4,
  "nbformat_minor": 0,
  "metadata": {
    "colab": {
      "name": "InceptionResnetV2ModelTrainer.ipynb",
      "provenance": [],
      "collapsed_sections": []
    },
    "kernelspec": {
      "name": "python3",
      "display_name": "Python 3"
    },
    "language_info": {
      "name": "python"
    }
  },
  "cells": [
    {
      "cell_type": "code",
      "metadata": {
        "colab": {
          "base_uri": "https://localhost:8080/"
        },
        "id": "XWXoaMuDbPyL",
        "outputId": "76c07c79-a849-4a36-c58e-8aa5044c7517"
      },
      "source": [
        "!pwd"
      ],
      "execution_count": null,
      "outputs": [
        {
          "output_type": "stream",
          "name": "stdout",
          "text": [
            "/content/drive/My Drive/Projects/Training Datasets\n"
          ]
        }
      ]
    },
    {
      "cell_type": "code",
      "metadata": {
        "id": "u4Bnm9_x5npT",
        "colab": {
          "base_uri": "https://localhost:8080/"
        },
        "outputId": "6549fa90-6b59-4281-9940-70ccc2a4d4e5"
      },
      "source": [
        "cd /content/drive/MyDrive/Projects/Training Datasets"
      ],
      "execution_count": null,
      "outputs": [
        {
          "output_type": "stream",
          "name": "stdout",
          "text": [
            "/content/drive/MyDrive/Projects/Training Datasets\n"
          ]
        }
      ]
    },
    {
      "cell_type": "code",
      "metadata": {
        "colab": {
          "base_uri": "https://localhost:8080/"
        },
        "id": "dkPY-F1wPlBK",
        "outputId": "b5b86e52-2b14-4ffb-d865-eac3b626e2f9"
      },
      "source": [
        "!nvidia-smi"
      ],
      "execution_count": null,
      "outputs": [
        {
          "output_type": "stream",
          "name": "stdout",
          "text": [
            "Sun Sep 12 18:42:10 2021       \n",
            "+-----------------------------------------------------------------------------+\n",
            "| NVIDIA-SMI 470.63.01    Driver Version: 460.32.03    CUDA Version: 11.2     |\n",
            "|-------------------------------+----------------------+----------------------+\n",
            "| GPU  Name        Persistence-M| Bus-Id        Disp.A | Volatile Uncorr. ECC |\n",
            "| Fan  Temp  Perf  Pwr:Usage/Cap|         Memory-Usage | GPU-Util  Compute M. |\n",
            "|                               |                      |               MIG M. |\n",
            "|===============================+======================+======================|\n",
            "|   0  Tesla K80           Off  | 00000000:00:04.0 Off |                    0 |\n",
            "| N/A   35C    P8    26W / 149W |      0MiB / 11441MiB |      0%      Default |\n",
            "|                               |                      |                  N/A |\n",
            "+-------------------------------+----------------------+----------------------+\n",
            "                                                                               \n",
            "+-----------------------------------------------------------------------------+\n",
            "| Processes:                                                                  |\n",
            "|  GPU   GI   CI        PID   Type   Process name                  GPU Memory |\n",
            "|        ID   ID                                                   Usage      |\n",
            "|=============================================================================|\n",
            "|  No running processes found                                                 |\n",
            "+-----------------------------------------------------------------------------+\n"
          ]
        }
      ]
    },
    {
      "cell_type": "markdown",
      "metadata": {
        "id": "yfGbUnLXJVyh"
      },
      "source": [
        "*Importing Packages*"
      ]
    },
    {
      "cell_type": "code",
      "metadata": {
        "id": "pbDD0JXpJMWq"
      },
      "source": [
        "from tensorflow.keras.preprocessing.image import ImageDataGenerator\n",
        "from tensorflow.keras.applications import InceptionResNetV2\n",
        "from tensorflow.keras.layers import AveragePooling2D\n",
        "from tensorflow.keras.layers import Dropout\n",
        "from tensorflow.keras.layers import Flatten\n",
        "from tensorflow.keras.layers import Dense\n",
        "from tensorflow.keras.layers import Input\n",
        "from tensorflow.keras.models import Model\n",
        "from tensorflow.keras.optimizers import Adam\n",
        "from tensorflow.keras.applications.inception_resnet_v2 import preprocess_input\n",
        "from tensorflow.keras.preprocessing.image import img_to_array\n",
        "from tensorflow.keras.preprocessing.image import load_img\n",
        "from tensorflow.keras.utils import to_categorical\n",
        "from sklearn.preprocessing import LabelBinarizer\n",
        "from sklearn.model_selection import train_test_split\n",
        "from sklearn.metrics import classification_report\n",
        "from imutils import paths\n",
        "import matplotlib.pyplot as plt\n",
        "import numpy as np\n",
        "import os\n",
        "from tqdm import tqdm\n",
        "from PIL import ImageFile #big images present in the dataset so .."
      ],
      "execution_count": null,
      "outputs": []
    },
    {
      "cell_type": "markdown",
      "metadata": {
        "id": "F6zExNPdJ9Iv"
      },
      "source": [
        "*Assigning Learning rate, EPOCHS and Batch Size*"
      ]
    },
    {
      "cell_type": "code",
      "metadata": {
        "id": "V_g4yC-0J1bZ"
      },
      "source": [
        "INIT_LR = 1e-4\n",
        "EPOCHS = 20\n",
        "BS = 32\n",
        "\n",
        "DIRECTORY = \"dataset2\"\n",
        "CATEGORIES = [\"with_mask\", \"without_mask\"]"
      ],
      "execution_count": null,
      "outputs": []
    },
    {
      "cell_type": "code",
      "metadata": {
        "colab": {
          "base_uri": "https://localhost:8080/"
        },
        "id": "HSw0aNPAMVGH",
        "outputId": "f40edfa4-a107-48a5-ff1c-fe0bbc6c919e"
      },
      "source": [
        "print(DIRECTORY)\n",
        "print(CATEGORIES)"
      ],
      "execution_count": null,
      "outputs": [
        {
          "output_type": "stream",
          "name": "stdout",
          "text": [
            "dataset2\n",
            "['with_mask', 'without_mask']\n"
          ]
        }
      ]
    },
    {
      "cell_type": "code",
      "metadata": {
        "id": "ekjKCtxaqwAU"
      },
      "source": [
        "ImageFile.LOAD_TRUNCATED_IMAGES = True"
      ],
      "execution_count": null,
      "outputs": []
    },
    {
      "cell_type": "markdown",
      "metadata": {
        "id": "CZeRBGizKSTf"
      },
      "source": [
        "*Grabbing and Initializing the images from the 'dataset' directory*"
      ]
    },
    {
      "cell_type": "code",
      "metadata": {
        "colab": {
          "base_uri": "https://localhost:8080/"
        },
        "id": "RrcwUUQiKmyz",
        "outputId": "a7f4038c-904f-431c-f6c4-3b8044780925"
      },
      "source": [
        "data = []\n",
        "labels = []\n",
        "\n",
        "for category in CATEGORIES:\n",
        "    path = os.path.join(DIRECTORY, category)\n",
        "    print(\"Loading for category %s\" % category)\n",
        "    for img in tqdm(os.listdir(path)):\n",
        "        img_path = os.path.join(path, img)\n",
        "        image = load_img(img_path, target_size=(224, 224))\n",
        "        image = img_to_array(image)\n",
        "        image = preprocess_input(image)\n",
        "\n",
        "        data.append(image)\n",
        "        labels.append(category)"
      ],
      "execution_count": null,
      "outputs": [
        {
          "output_type": "stream",
          "name": "stdout",
          "text": [
            "Loading for category with_mask\n"
          ]
        },
        {
          "output_type": "stream",
          "name": "stderr",
          "text": [
            "100%|██████████| 690/690 [02:17<00:00,  5.03it/s]\n"
          ]
        },
        {
          "output_type": "stream",
          "name": "stdout",
          "text": [
            "Loading for category without_mask\n"
          ]
        },
        {
          "output_type": "stream",
          "name": "stderr",
          "text": [
            "100%|██████████| 686/686 [02:14<00:00,  5.09it/s]\n"
          ]
        }
      ]
    },
    {
      "cell_type": "markdown",
      "metadata": {
        "id": "3gVkIScvK8UR"
      },
      "source": [
        "*Encoding Labels*"
      ]
    },
    {
      "cell_type": "code",
      "metadata": {
        "id": "0Zbz0aeVLJUm"
      },
      "source": [
        "lb = LabelBinarizer()\n",
        "labels = lb.fit_transform(labels)\n",
        "labels = to_categorical(labels)\n",
        "\n",
        "data = np.array(data, dtype=\"float32\")\n",
        "labels = np.array(labels)\n",
        "\n",
        "(trainX, testX, trainY, testY) = train_test_split(data, labels,\n",
        "                                                  test_size=0.20, stratify=labels, random_state=42)"
      ],
      "execution_count": null,
      "outputs": []
    },
    {
      "cell_type": "markdown",
      "metadata": {
        "id": "ZPkEMD2nLTUL"
      },
      "source": [
        "*Construct the training image generator for data augmentation*"
      ]
    },
    {
      "cell_type": "code",
      "metadata": {
        "id": "saV-5T8wLPOf"
      },
      "source": [
        "aug = ImageDataGenerator(\n",
        "    rotation_range=20,\n",
        "    zoom_range=0.15,\n",
        "    width_shift_range=0.2,\n",
        "    height_shift_range=0.2,\n",
        "    shear_range=0.15,\n",
        "    horizontal_flip=True,\n",
        "    fill_mode=\"nearest\")"
      ],
      "execution_count": null,
      "outputs": []
    },
    {
      "cell_type": "markdown",
      "metadata": {
        "id": "1sYR8Hg3TlcD"
      },
      "source": [
        "*Loading the InceptionResNetV2 Network*"
      ]
    },
    {
      "cell_type": "code",
      "metadata": {
        "id": "-ZdRWAAiTdDp",
        "colab": {
          "base_uri": "https://localhost:8080/"
        },
        "outputId": "e67e5a0c-08bf-4f70-d3d8-8c7e044dd1cc"
      },
      "source": [
        "baseModel = InceptionResNetV2(weights=\"imagenet\", include_top=False,\n",
        "                        input_tensor=Input(shape=(224, 224, 3)))"
      ],
      "execution_count": null,
      "outputs": [
        {
          "output_type": "stream",
          "name": "stdout",
          "text": [
            "Downloading data from https://storage.googleapis.com/tensorflow/keras-applications/inception_resnet_v2/inception_resnet_v2_weights_tf_dim_ordering_tf_kernels_notop.h5\n",
            "219062272/219055592 [==============================] - 3s 0us/step\n",
            "219070464/219055592 [==============================] - 3s 0us/step\n"
          ]
        }
      ]
    },
    {
      "cell_type": "markdown",
      "metadata": {
        "id": "iPoMBzAnMcJQ"
      },
      "source": [
        "*Constructing the head of the Model that weill be placeed on top of the base Model*"
      ]
    },
    {
      "cell_type": "code",
      "metadata": {
        "id": "TefFQyfvMdLD"
      },
      "source": [
        "headModel = baseModel.output\n",
        "headModel = AveragePooling2D(pool_size=(5, 5))(headModel)\n",
        "headModel = Flatten(name=\"flatten\")(headModel)\n",
        "headModel = Dense(128, activation=\"relu\")(headModel)\n",
        "headModel = Dropout(0.5)(headModel)\n",
        "headModel = Dense(2, activation=\"softmax\")(headModel)"
      ],
      "execution_count": null,
      "outputs": []
    },
    {
      "cell_type": "markdown",
      "metadata": {
        "id": "s7EdwO7oNBut"
      },
      "source": [
        "*Placing the head FC model on top of the base model (this will become the actual model we will train)*"
      ]
    },
    {
      "cell_type": "code",
      "metadata": {
        "id": "vLK8Ua_LM9f7"
      },
      "source": [
        "model = Model(inputs=baseModel.input, outputs=headModel)"
      ],
      "execution_count": null,
      "outputs": []
    },
    {
      "cell_type": "markdown",
      "metadata": {
        "id": "EasLbdXZNhiO"
      },
      "source": [
        "*loop over all layers in the base model and freeze them so they will not be updated during the first training process*"
      ]
    },
    {
      "cell_type": "code",
      "metadata": {
        "id": "j16luDFrNpQu"
      },
      "source": [
        "for layer in baseModel.layers:\n",
        "    layer.trainable = False"
      ],
      "execution_count": null,
      "outputs": []
    },
    {
      "cell_type": "markdown",
      "metadata": {
        "id": "xb35SASwN5X3"
      },
      "source": [
        "*Compiling the Model*"
      ]
    },
    {
      "cell_type": "code",
      "metadata": {
        "id": "_MUdCY0ON942",
        "colab": {
          "base_uri": "https://localhost:8080/"
        },
        "outputId": "81755095-062a-4fe0-e47c-b09d36122f8f"
      },
      "source": [
        "print(\"[INFO] compiling the model...\")\n",
        "opt = Adam(learning_rate=INIT_LR, decay=INIT_LR / EPOCHS)\n",
        "model.compile(loss=\"binary_crossentropy\", optimizer=opt,\n",
        "              metrics=[\"accuracy\"])"
      ],
      "execution_count": null,
      "outputs": [
        {
          "output_type": "stream",
          "name": "stdout",
          "text": [
            "[INFO] compiling the model...\n"
          ]
        }
      ]
    },
    {
      "cell_type": "markdown",
      "metadata": {
        "id": "OSfksNUQOGc0"
      },
      "source": [
        "*Train the head of the Network*"
      ]
    },
    {
      "cell_type": "code",
      "metadata": {
        "id": "N9F2RKVwOKXQ",
        "colab": {
          "base_uri": "https://localhost:8080/"
        },
        "outputId": "da1eef0b-4e66-4b22-8203-2abb806fb5cb"
      },
      "source": [
        "print(\"[INFO] training the head part...\")\n",
        "H = model.fit(\n",
        "    aug.flow(trainX, trainY, batch_size=BS),\n",
        "    steps_per_epoch=len(trainX) // BS,\n",
        "    validation_data=(testX, testY),\n",
        "    validation_steps=len(testX) // BS,\n",
        "    epochs=EPOCHS,\n",
        "    verbose=2)"
      ],
      "execution_count": null,
      "outputs": [
        {
          "output_type": "stream",
          "name": "stdout",
          "text": [
            "[INFO] training the head part...\n",
            "Epoch 1/20\n",
            "34/34 - 65s - loss: 0.4751 - accuracy: 0.7849 - val_loss: 0.1202 - val_accuracy: 0.9964\n",
            "Epoch 2/20\n",
            "34/34 - 20s - loss: 0.1294 - accuracy: 0.9822 - val_loss: 0.0501 - val_accuracy: 1.0000\n",
            "Epoch 3/20\n",
            "34/34 - 19s - loss: 0.0829 - accuracy: 0.9869 - val_loss: 0.0324 - val_accuracy: 1.0000\n",
            "Epoch 4/20\n",
            "34/34 - 19s - loss: 0.0608 - accuracy: 0.9897 - val_loss: 0.0240 - val_accuracy: 1.0000\n",
            "Epoch 5/20\n",
            "34/34 - 20s - loss: 0.0451 - accuracy: 0.9934 - val_loss: 0.0217 - val_accuracy: 1.0000\n",
            "Epoch 6/20\n",
            "34/34 - 20s - loss: 0.0435 - accuracy: 0.9926 - val_loss: 0.0167 - val_accuracy: 1.0000\n",
            "Epoch 7/20\n",
            "34/34 - 20s - loss: 0.0289 - accuracy: 0.9963 - val_loss: 0.0120 - val_accuracy: 1.0000\n",
            "Epoch 8/20\n",
            "34/34 - 20s - loss: 0.0315 - accuracy: 0.9916 - val_loss: 0.0172 - val_accuracy: 0.9964\n",
            "Epoch 9/20\n",
            "34/34 - 20s - loss: 0.0207 - accuracy: 0.9963 - val_loss: 0.0085 - val_accuracy: 1.0000\n",
            "Epoch 10/20\n",
            "34/34 - 20s - loss: 0.0258 - accuracy: 0.9925 - val_loss: 0.0083 - val_accuracy: 1.0000\n",
            "Epoch 11/20\n",
            "34/34 - 20s - loss: 0.0212 - accuracy: 0.9963 - val_loss: 0.0092 - val_accuracy: 1.0000\n",
            "Epoch 12/20\n",
            "34/34 - 19s - loss: 0.0186 - accuracy: 0.9963 - val_loss: 0.0075 - val_accuracy: 1.0000\n",
            "Epoch 13/20\n",
            "34/34 - 19s - loss: 0.0258 - accuracy: 0.9925 - val_loss: 0.0074 - val_accuracy: 1.0000\n",
            "Epoch 14/20\n",
            "34/34 - 19s - loss: 0.0154 - accuracy: 0.9972 - val_loss: 0.0067 - val_accuracy: 1.0000\n",
            "Epoch 15/20\n",
            "34/34 - 19s - loss: 0.0168 - accuracy: 0.9972 - val_loss: 0.0093 - val_accuracy: 1.0000\n",
            "Epoch 16/20\n",
            "34/34 - 19s - loss: 0.0171 - accuracy: 0.9944 - val_loss: 0.0069 - val_accuracy: 1.0000\n",
            "Epoch 17/20\n",
            "34/34 - 19s - loss: 0.0120 - accuracy: 0.9981 - val_loss: 0.0058 - val_accuracy: 1.0000\n",
            "Epoch 18/20\n",
            "34/34 - 19s - loss: 0.0127 - accuracy: 0.9981 - val_loss: 0.0050 - val_accuracy: 1.0000\n",
            "Epoch 19/20\n",
            "34/34 - 19s - loss: 0.0111 - accuracy: 0.9991 - val_loss: 0.0050 - val_accuracy: 1.0000\n",
            "Epoch 20/20\n",
            "34/34 - 19s - loss: 0.0102 - accuracy: 0.9972 - val_loss: 0.0065 - val_accuracy: 1.0000\n"
          ]
        }
      ]
    },
    {
      "cell_type": "markdown",
      "metadata": {
        "id": "kYMTtOxFONqW"
      },
      "source": [
        "*Making predictions on the testing set*"
      ]
    },
    {
      "cell_type": "code",
      "metadata": {
        "id": "w-wdHJp6OTRx",
        "colab": {
          "base_uri": "https://localhost:8080/"
        },
        "outputId": "a217d09f-3884-4624-ff76-8406548e8ade"
      },
      "source": [
        "print(\"[INFO] evaluating network...\")\n",
        "predIdxs = model.predict(testX, batch_size=BS)"
      ],
      "execution_count": null,
      "outputs": [
        {
          "output_type": "stream",
          "name": "stdout",
          "text": [
            "[INFO] evaluating network...\n"
          ]
        }
      ]
    },
    {
      "cell_type": "markdown",
      "metadata": {
        "id": "4yDtCMkAOYdy"
      },
      "source": [
        "*for each image in the testing set we need to find the index of the\n",
        "label with corresponding largest predicted probability*"
      ]
    },
    {
      "cell_type": "code",
      "metadata": {
        "id": "ACqNuzOPOjkn"
      },
      "source": [
        "predIdxs = np.argmax(predIdxs, axis=1)"
      ],
      "execution_count": null,
      "outputs": []
    },
    {
      "cell_type": "markdown",
      "metadata": {
        "id": "MGSUtshJOt99"
      },
      "source": [
        "*Showing a Formatted Classification report*"
      ]
    },
    {
      "cell_type": "code",
      "metadata": {
        "id": "UhCetebOO2vT",
        "colab": {
          "base_uri": "https://localhost:8080/"
        },
        "outputId": "ce1e87aa-87c2-4c0a-9bda-dc9c7e8446bf"
      },
      "source": [
        "print(classification_report(testY.argmax(axis=1), predIdxs,\n",
        "                            target_names=lb.classes_))"
      ],
      "execution_count": null,
      "outputs": [
        {
          "output_type": "stream",
          "name": "stdout",
          "text": [
            "              precision    recall  f1-score   support\n",
            "\n",
            "   with_mask       1.00      1.00      1.00       138\n",
            "without_mask       1.00      1.00      1.00       138\n",
            "\n",
            "    accuracy                           1.00       276\n",
            "   macro avg       1.00      1.00      1.00       276\n",
            "weighted avg       1.00      1.00      1.00       276\n",
            "\n"
          ]
        }
      ]
    },
    {
      "cell_type": "markdown",
      "metadata": {
        "id": "2ejn3oKAO7PS"
      },
      "source": [
        "*Serialize (Writing)the Model to Local Disk*"
      ]
    },
    {
      "cell_type": "code",
      "metadata": {
        "id": "ppqo5yGPPH_7",
        "colab": {
          "base_uri": "https://localhost:8080/"
        },
        "outputId": "2d3ae2c1-58c4-4e08-fd9b-2b49c294b4fd"
      },
      "source": [
        "print(\"[INFO] saving mask detector model...\")\n",
        "model.save(\"irv2_ds2_mask_detector.hdf5\", save_format=\"h5\")"
      ],
      "execution_count": null,
      "outputs": [
        {
          "output_type": "stream",
          "name": "stdout",
          "text": [
            "[INFO] saving mask detector model...\n"
          ]
        }
      ]
    },
    {
      "cell_type": "markdown",
      "metadata": {
        "id": "OjmB1T3yPOzk"
      },
      "source": [
        "*Plotting the training loss and accuracy*"
      ]
    },
    {
      "cell_type": "code",
      "metadata": {
        "id": "jjRQcN43PTkF",
        "colab": {
          "base_uri": "https://localhost:8080/",
          "height": 298
        },
        "outputId": "2a29802c-03f3-4692-fa1d-445f1f24583e"
      },
      "source": [
        "N = EPOCHS\n",
        "plt.style.use(\"ggplot\")\n",
        "plt.figure()\n",
        "plt.plot(np.arange(0, N), H.history[\"loss\"], label=\"train_loss\")\n",
        "plt.plot(np.arange(0, N), H.history[\"val_loss\"], label=\"val_loss\")\n",
        "plt.plot(np.arange(0, N), H.history[\"accuracy\"], label=\"train_acc\")\n",
        "plt.plot(np.arange(0, N), H.history[\"val_accuracy\"], label=\"val_acc\")\n",
        "plt.title(\"Training Loss and Accuracy\")\n",
        "plt.xlabel(\"Epoch #\")\n",
        "plt.ylabel(\"Loss/Accuracy\")\n",
        "plt.legend(loc=\"lower left\")\n",
        "plt.savefig(\"irv2_ds2_plot.png\")"
      ],
      "execution_count": null,
      "outputs": [
        {
          "output_type": "display_data",
          "data": {
            "image/png": "[encoded data removed]",
            "text/plain": [
              "<Figure size 432x288 with 1 Axes>"
            ]
          },
          "metadata": {}
        }
      ]
    }
  ]
}